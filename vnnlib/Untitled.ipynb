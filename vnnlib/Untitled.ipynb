{
 "cells": [
  {
   "cell_type": "code",
   "execution_count": 133,
   "id": "185b63db",
   "metadata": {},
   "outputs": [],
   "source": [
    "import torch\n",
    "import numpy as np"
   ]
  },
  {
   "cell_type": "code",
   "execution_count": 134,
   "id": "b9270bb2",
   "metadata": {},
   "outputs": [],
   "source": [
    "prediction = np.load('output52/000000.npy')"
   ]
  },
  {
   "cell_type": "code",
   "execution_count": 135,
   "id": "6438daae",
   "metadata": {},
   "outputs": [],
   "source": [
    "prediction = torch.from_numpy(prediction)"
   ]
  },
  {
   "cell_type": "code",
   "execution_count": 136,
   "id": "6d0fd07b",
   "metadata": {},
   "outputs": [],
   "source": [
    "B, abC, H, W = prediction.size()\n",
    "KA = 5\n",
    "NC = 20\n",
    "prediction = prediction.permute(0, 2, 3, 1).contiguous().view(B, -1, abC)\n",
    "\n",
    "conf_pred = prediction[..., :KA].contiguous().view(B, -1, 1)\n",
    "cls_pred = prediction[..., 1*KA : (1+NC)*KA].contiguous().view(B, -1, NC)\n",
    "txtytwth_pred = prediction[..., (1+NC)*KA:].contiguous().view(B, -1, 4)"
   ]
  },
  {
   "cell_type": "code",
   "execution_count": 137,
   "id": "46b86079",
   "metadata": {},
   "outputs": [],
   "source": [
    "conf_pred = conf_pred[0]            #[H*W*KA, 1]\n",
    "cls_pred = cls_pred[0]              #[H*W*KA, NC]\n",
    "reg_pred = txtytwth_pred[0]    #[H*W*KA, 4]"
   ]
  },
  {
   "cell_type": "code",
   "execution_count": 138,
   "id": "75c33c1b",
   "metadata": {},
   "outputs": [
    {
     "data": {
      "text/plain": [
       "torch.Size([845, 4])"
      ]
     },
     "execution_count": 138,
     "metadata": {},
     "output_type": "execute_result"
    }
   ],
   "source": [
    "reg_pred.shape"
   ]
  },
  {
   "cell_type": "code",
   "execution_count": 139,
   "id": "e88f64dc",
   "metadata": {},
   "outputs": [],
   "source": [
    "max_conf, max_conf_idx = torch.max(conf_pred, dim=0)"
   ]
  },
  {
   "cell_type": "code",
   "execution_count": 140,
   "id": "e12272bb",
   "metadata": {},
   "outputs": [],
   "source": [
    "max_conf_cls = cls_pred[max_conf_idx]"
   ]
  },
  {
   "cell_type": "code",
   "execution_count": 141,
   "id": "0cf8d724",
   "metadata": {},
   "outputs": [],
   "source": [
    "VOC_CLASSES = (  # always index 0\n",
    "    'aeroplane', 'bicycle', 'bird', 'boat',\n",
    "    'bottle', 'bus', 'car', 'cat', 'chair',\n",
    "    'cow', 'diningtable', 'dog', 'horse',\n",
    "    'motorbike', 'person', 'pottedplant',\n",
    "    'sheep', 'sofa', 'train', 'tvmonitor')"
   ]
  },
  {
   "cell_type": "code",
   "execution_count": 142,
   "id": "cb449a7b",
   "metadata": {},
   "outputs": [],
   "source": [
    "_, cls_result = torch.max(max_conf_cls, dim=1)"
   ]
  },
  {
   "cell_type": "code",
   "execution_count": 143,
   "id": "f7e339c5",
   "metadata": {},
   "outputs": [
    {
     "data": {
      "text/plain": [
       "tensor([11])"
      ]
     },
     "execution_count": 143,
     "metadata": {},
     "output_type": "execute_result"
    }
   ],
   "source": [
    "cls_result"
   ]
  },
  {
   "cell_type": "code",
   "execution_count": 144,
   "id": "7e2a95e4",
   "metadata": {},
   "outputs": [
    {
     "data": {
      "text/plain": [
       "'dog'"
      ]
     },
     "execution_count": 144,
     "metadata": {},
     "output_type": "execute_result"
    }
   ],
   "source": [
    "VOC_CLASSES[11]"
   ]
  },
  {
   "cell_type": "code",
   "execution_count": 145,
   "id": "e179c6a0",
   "metadata": {},
   "outputs": [
    {
     "data": {
      "text/plain": [
       "tensor([-0.0004])"
      ]
     },
     "execution_count": 145,
     "metadata": {},
     "output_type": "execute_result"
    }
   ],
   "source": [
    "max_conf"
   ]
  },
  {
   "cell_type": "code",
   "execution_count": 146,
   "id": "248942d3",
   "metadata": {},
   "outputs": [
    {
     "data": {
      "text/plain": [
       "torch.Size([845, 1])"
      ]
     },
     "execution_count": 146,
     "metadata": {},
     "output_type": "execute_result"
    }
   ],
   "source": [
    "conf_pred.shape"
   ]
  },
  {
   "cell_type": "code",
   "execution_count": 147,
   "id": "38709886",
   "metadata": {},
   "outputs": [],
   "source": [
    "scores = (torch.sigmoid(conf_pred) * torch.softmax(cls_pred, dim=-1)).flatten()"
   ]
  },
  {
   "cell_type": "code",
   "execution_count": 148,
   "id": "da37989b",
   "metadata": {},
   "outputs": [],
   "source": [
    "num_topk = min(100, reg_pred.size(0))\n",
    "predicted_prob, topk_idxs = scores.sort(descending=True)\n",
    "topk_scores = predicted_prob[:num_topk]\n",
    "topk_idxs = topk_idxs[:num_topk]"
   ]
  },
  {
   "cell_type": "code",
   "execution_count": 149,
   "id": "cd20ccc2",
   "metadata": {},
   "outputs": [],
   "source": [
    "keep_idxs = topk_scores > 0.1\n",
    "scores = topk_scores[keep_idxs]\n",
    "topk_idxs = topk_idxs[keep_idxs]"
   ]
  },
  {
   "cell_type": "code",
   "execution_count": 150,
   "id": "99b1b8bd",
   "metadata": {},
   "outputs": [
    {
     "data": {
      "text/plain": [
       "tensor([0.4779, 0.4504, 0.3751, 0.1919, 0.1833])"
      ]
     },
     "execution_count": 150,
     "metadata": {},
     "output_type": "execute_result"
    }
   ],
   "source": [
    "scores"
   ]
  },
  {
   "cell_type": "code",
   "execution_count": null,
   "id": "30ce1b0e",
   "metadata": {},
   "outputs": [],
   "source": [
    "keep = np.zeros(len(bboxes), dtype=np.int64)\n",
    "    for i in range(self.num_classes):\n",
    "        inds = np.where(labels == i)[0]\n",
    "        if len(inds) == 0:\n",
    "            continue\n",
    "        c_bboxes = bboxes[inds]\n",
    "        c_scores = scores[inds]\n",
    "        c_keep = self.nms(c_bboxes, c_scores)\n",
    "        keep[inds[c_keep]] = 1"
   ]
  }
 ],
 "metadata": {
  "kernelspec": {
   "display_name": "Python 3 (ipykernel)",
   "language": "python",
   "name": "python3"
  },
  "language_info": {
   "codemirror_mode": {
    "name": "ipython",
    "version": 3
   },
   "file_extension": ".py",
   "mimetype": "text/x-python",
   "name": "python",
   "nbconvert_exporter": "python",
   "pygments_lexer": "ipython3",
   "version": "3.8.1"
  }
 },
 "nbformat": 4,
 "nbformat_minor": 5
}
