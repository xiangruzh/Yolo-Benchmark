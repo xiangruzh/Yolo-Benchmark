{
 "cells": [
  {
   "cell_type": "code",
   "execution_count": 1,
   "id": "185b63db",
   "metadata": {},
   "outputs": [],
   "source": [
    "import torch\n",
    "import numpy as np"
   ]
  },
  {
   "cell_type": "code",
   "execution_count": 2,
   "id": "b9270bb2",
   "metadata": {},
   "outputs": [],
   "source": [
    "prediction = np.load('000000.npy')"
   ]
  },
  {
   "cell_type": "code",
   "execution_count": 4,
   "id": "6438daae",
   "metadata": {},
   "outputs": [],
   "source": [
    "prediction = torch.from_numpy(prediction)"
   ]
  },
  {
   "cell_type": "code",
   "execution_count": 5,
   "id": "6d0fd07b",
   "metadata": {},
   "outputs": [],
   "source": [
    "B, abC, H, W = prediction.size()\n",
    "KA = 5\n",
    "NC = 20\n",
    "prediction = prediction.permute(0, 2, 3, 1).contiguous().view(B, -1, abC)\n",
    "\n",
    "conf_pred = prediction[..., :KA].contiguous().view(B, -1, 1)\n",
    "cls_pred = prediction[..., 1*KA : (1+NC)*KA].contiguous().view(B, -1, NC)\n",
    "txtytwth_pred = prediction[..., (1+NC)*KA:].contiguous().view(B, -1, 4)"
   ]
  },
  {
   "cell_type": "code",
   "execution_count": 9,
   "id": "75c33c1b",
   "metadata": {},
   "outputs": [],
   "source": [
    "conf_pred = conf_pred[0]            #[H*W*KA, 1]\n",
    "cls_pred = cls_pred[0]              #[H*W*KA, NC]\n",
    "txtytwth_pred = txtytwth_pred[0]    #[H*W*KA, 4]"
   ]
  },
  {
   "cell_type": "code",
   "execution_count": 24,
   "id": "e88f64dc",
   "metadata": {},
   "outputs": [
    {
     "data": {
      "text/plain": [
       "tensor([0.4968])"
      ]
     },
     "execution_count": 24,
     "metadata": {},
     "output_type": "execute_result"
    }
   ],
   "source": [
    "max_conf, max_conf_idx = torch.max(conf_pred, dim=0)"
   ]
  },
  {
   "cell_type": "code",
   "execution_count": 29,
   "id": "e12272bb",
   "metadata": {},
   "outputs": [],
   "source": [
    "max_conf_cls = cls_pred[max_conf_idx]"
   ]
  },
  {
   "cell_type": "code",
   "execution_count": 27,
   "id": "0cf8d724",
   "metadata": {},
   "outputs": [],
   "source": [
    "VOC_CLASSES = (  # always index 0\n",
    "    'aeroplane', 'bicycle', 'bird', 'boat',\n",
    "    'bottle', 'bus', 'car', 'cat', 'chair',\n",
    "    'cow', 'diningtable', 'dog', 'horse',\n",
    "    'motorbike', 'person', 'pottedplant',\n",
    "    'sheep', 'sofa', 'train', 'tvmonitor')"
   ]
  },
  {
   "cell_type": "code",
   "execution_count": 32,
   "id": "cb449a7b",
   "metadata": {},
   "outputs": [],
   "source": [
    "_, cls_result = torch.max(max_conf_cls, dim=1)"
   ]
  },
  {
   "cell_type": "code",
   "execution_count": 33,
   "id": "f7e339c5",
   "metadata": {},
   "outputs": [
    {
     "data": {
      "text/plain": [
       "tensor([11])"
      ]
     },
     "execution_count": 33,
     "metadata": {},
     "output_type": "execute_result"
    }
   ],
   "source": [
    "cls_result"
   ]
  },
  {
   "cell_type": "code",
   "execution_count": 34,
   "id": "7e2a95e4",
   "metadata": {},
   "outputs": [
    {
     "data": {
      "text/plain": [
       "'dog'"
      ]
     },
     "execution_count": 34,
     "metadata": {},
     "output_type": "execute_result"
    }
   ],
   "source": [
    "VOC_CLASSES[11]"
   ]
  },
  {
   "cell_type": "code",
   "execution_count": null,
   "id": "e179c6a0",
   "metadata": {},
   "outputs": [],
   "source": []
  }
 ],
 "metadata": {
  "kernelspec": {
   "display_name": "Python 3 (ipykernel)",
   "language": "python",
   "name": "python3"
  },
  "language_info": {
   "codemirror_mode": {
    "name": "ipython",
    "version": 3
   },
   "file_extension": ".py",
   "mimetype": "text/x-python",
   "name": "python",
   "nbconvert_exporter": "python",
   "pygments_lexer": "ipython3",
   "version": "3.8.1"
  }
 },
 "nbformat": 4,
 "nbformat_minor": 5
}
